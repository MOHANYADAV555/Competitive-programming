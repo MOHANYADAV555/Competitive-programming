{
  "cells": [
    {
      "cell_type": "markdown",
      "metadata": {
        "id": "view-in-github",
        "colab_type": "text"
      },
      "source": [
        "<a href=\"https://colab.research.google.com/github/MOHANYADAV555/Competitive-programming/blob/main/DICTIOARYY.ipynb\" target=\"_parent\"><img src=\"https://colab.research.google.com/assets/colab-badge.svg\" alt=\"Open In Colab\"/></a>"
      ]
    },
    {
      "cell_type": "code",
      "execution_count": null,
      "metadata": {
        "colab": {
          "base_uri": "https://localhost:8080/"
        },
        "id": "YXpHuEoT-kMW",
        "outputId": "f4de85ba-4d26-405c-fe10-ed150c83cb1a"
      },
      "outputs": [
        {
          "name": "stdout",
          "output_type": "stream",
          "text": [
            "enter your string name python\n",
            "6\n",
            "python\n",
            "python\n",
            "<class 'str'>\n"
          ]
        }
      ],
      "source": [
        "# sting \n",
        "                   #syntax\n",
        "str = input(\"enter your string name \")                  #[string value : ending value : step value] you cant give step value ,defaultly 1 is their\n",
        "print(len(str))\n",
        "print(str[0:])\n",
        "print(str[0:10])\n",
        "#print([]: :)\n",
        "#print(str[10])\n",
        "print(type(str))"
      ]
    },
    {
      "cell_type": "code",
      "source": [
        "from google.colab import drive\n",
        "drive.mount('/content/drive')"
      ],
      "metadata": {
        "id": "ulVoNuc0wjAr"
      },
      "execution_count": null,
      "outputs": []
    },
    {
      "cell_type": "code",
      "execution_count": null,
      "metadata": {
        "colab": {
          "base_uri": "https://localhost:8080/"
        },
        "id": "gQLr800cRDIV",
        "outputId": "247824aa-1669-4168-915f-e3c249619bf7"
      },
      "outputs": [
        {
          "name": "stdout",
          "output_type": "stream",
          "text": [
            "pythonpythonpython\n"
          ]
        }
      ],
      "source": [
        "print(str*3)"
      ]
    },
    {
      "cell_type": "code",
      "execution_count": null,
      "metadata": {
        "colab": {
          "base_uri": "https://localhost:8080/"
        },
        "id": "0jQnbJJCRHwf",
        "outputId": "7ed59130-b3db-4380-a516-a900d80795c8"
      },
      "outputs": [
        {
          "name": "stdout",
          "output_type": "stream",
          "text": [
            "enter your string name progrmmaing\n",
            "enter your string name python\n",
            "progrmmaingpython\n",
            "progrmmaingpython\n"
          ]
        }
      ],
      "source": [
        "str1 = input(\"enter your string name \")\n",
        "str2 = input(\"enter your string name \")\n",
        "str3 = str1+str2\n",
        "print(str3)     \n",
        "print(str1+str2)\n"
      ]
    },
    {
      "cell_type": "code",
      "execution_count": null,
      "metadata": {
        "colab": {
          "base_uri": "https://localhost:8080/"
        },
        "id": "gdZkwpXTSoGx",
        "outputId": "7dd6d8db-54a9-46fc-fd69-f6b659eee063"
      },
      "outputs": [
        {
          "name": "stdout",
          "output_type": "stream",
          "text": [
            "<class 'list'>\n",
            "[100, 200, 'maca,20', 19]\n"
          ]
        }
      ],
      "source": [
        "#  LIST\n",
        "\n",
        "# LISTS ARE IMMUTABLE\n",
        "#DUPLICATES ARE ALOOW\n",
        "\n",
        "list = [100,200,\"maca,20\"]   \n",
        "list.append(\"mba\")\n",
        "list[3]=19\n",
        "#list.remove([1])\n",
        "print(type(list))\n",
        "\n",
        "print(list)"
      ]
    },
    {
      "cell_type": "code",
      "execution_count": null,
      "metadata": {
        "colab": {
          "base_uri": "https://localhost:8080/"
        },
        "id": "zg47eWChWScj",
        "outputId": "3d151432-a2bb-4c72-92ce-831471cd1070"
      },
      "outputs": [
        {
          "name": "stdout",
          "output_type": "stream",
          "text": [
            "['virat kohi', 'm.s dhoni', 'k.l rahul']\n",
            "dict_keys(['karnataka', 'tamilnadu', 'fruits', 'cricters'])\n",
            "dict_values(['banglore', 'chennai', ['apple', 'banana', 'pinpple'], ['virat kohi', 'm.s dhoni', 'k.l rahul']])\n",
            "dict_items([('karnataka', 'banglore'), ('tamilnadu', 'chennai'), ('fruits', ['apple', 'banana', 'pinpple']), ('cricters', ['virat kohi', 'm.s dhoni', 'k.l rahul'])])\n"
          ]
        }
      ],
      "source": [
        "dic = {\"karnataka\":\"banglore\",\"tamilnadu\":\"chennai\",\"fruits\":[\"apple\",\"banana\",\"pinpple\"],\"cricters\":[\"virat kohi\",\"m.s dhoni\",\"k.l rahul\"]}\n",
        "print(dic[\"cricters\"])\n",
        "print(dic.keys())\n",
        "print(dic.values())\n",
        "print(dic.items())"
      ]
    },
    {
      "cell_type": "code",
      "execution_count": null,
      "metadata": {
        "colab": {
          "base_uri": "https://localhost:8080/"
        },
        "id": "H4F3aiNFxhc1",
        "outputId": "60a6b3da-91cf-483f-98b8-c583456f2a6e"
      },
      "outputs": [
        {
          "name": "stdout",
          "output_type": "stream",
          "text": [
            "karnataka\n",
            "tamilnadu\n",
            "fruits\n",
            "cricters\n"
          ]
        }
      ],
      "source": [
        "dic = {\"karnataka\":\"banglore\",\"tamilnadu\":\"chennai\",\"fruits\":[\"apple\",\"banana\",\"pinpple\"],\"cricters\":[\"virat kohi\",\"m.s dhoni\",\"k.l rahul\"]}\n",
        "for i in dic.keys( ):    # in dictnaries keys and pairs are their\n",
        "                        #keys cant change once you can create,values are changed \n",
        "  print(i)"
      ]
    },
    {
      "cell_type": "code",
      "execution_count": null,
      "metadata": {
        "colab": {
          "base_uri": "https://localhost:8080/"
        },
        "id": "vKCfS-9dyl8b",
        "outputId": "46fd304b-0bff-49fc-bfe4-9aba7c4eaa1a"
      },
      "outputs": [
        {
          "name": "stdout",
          "output_type": "stream",
          "text": [
            "banglore\n",
            "chennai\n",
            "['apple', 'banana', 'pinpple']\n",
            "['virat kohi', 'm.s dhoni', 'k.l rahul']\n"
          ]
        }
      ],
      "source": [
        "dic = {\"karnataka\":\"banglore\",\"tamilnadu\":\"chennai\",\"fruits\":[\"apple\",\"banana\",\"pinpple\"],\"cricters\":[\"virat kohi\",\"m.s dhoni\",\"k.l rahul\"]}\n",
        "for i in  dic.values():\n",
        "  print(i)"
      ]
    },
    {
      "cell_type": "code",
      "execution_count": null,
      "metadata": {
        "colab": {
          "base_uri": "https://localhost:8080/"
        },
        "id": "Z24j7QyVzE-R",
        "outputId": "adec2711-3c54-4854-bc17-ccd209a51995"
      },
      "outputs": [
        {
          "name": "stdout",
          "output_type": "stream",
          "text": [
            "karnataka is the key and  banglore is the value\n",
            "tamilnadu is the key and  chennai is the value\n",
            "fruits is the key and  ['apple', 'banana', 'pinpple'] is the value\n",
            "cricters is the key and  ['virat kohi', 'm.s dhoni', 'k.l rahul'] is the value\n"
          ]
        }
      ],
      "source": [
        "dic = {\"karnataka\":\"banglore\",\"tamilnadu\":\"chennai\",\"fruits\":[\"apple\",\"banana\",\"pinpple\"],\"cricters\":[\"virat kohi\",\"m.s dhoni\",\"k.l rahul\"]}\n",
        "for i,j in dic.items():\n",
        "  print(i, 'is the key','and ',j, 'is the value')"
      ]
    },
    {
      "cell_type": "code",
      "execution_count": null,
      "metadata": {
        "colab": {
          "base_uri": "https://localhost:8080/"
        },
        "id": "2IRr5OOozjR5",
        "outputId": "a5ce31e3-5853-4f6b-c10c-98f01814a269"
      },
      "outputs": [
        {
          "name": "stdout",
          "output_type": "stream",
          "text": [
            "virat kohi\n"
          ]
        }
      ],
      "source": [
        "dic = {\"karnataka\":\"banglore\",\"tamilnadu\":\"chennai\",\"fruits\":[\"apple\",\"banana\",\"pinpple\"],\"cricters\":[\"virat kohi\",\"m.s dhoni\",\"k.l rahul\"]}\n",
        "print(dic[\"cricters\"][0])"
      ]
    },
    {
      "cell_type": "code",
      "execution_count": null,
      "metadata": {
        "id": "52Xywyoqz86O"
      },
      "outputs": [],
      "source": [
        "dic[\"cricters\"][0] = \"rohit sharma\""
      ]
    },
    {
      "cell_type": "code",
      "execution_count": null,
      "metadata": {
        "colab": {
          "base_uri": "https://localhost:8080/"
        },
        "id": "QSoFvuDm0DKy",
        "outputId": "011739a5-56df-43be-b624-03d4feadfab6"
      },
      "outputs": [
        {
          "name": "stdout",
          "output_type": "stream",
          "text": [
            "['rohit sharma', 'm.s dhoni', 'k.l rahul']\n"
          ]
        }
      ],
      "source": [
        "print(dic[\"cricters\"])"
      ]
    },
    {
      "cell_type": "code",
      "execution_count": null,
      "metadata": {
        "colab": {
          "base_uri": "https://localhost:8080/"
        },
        "id": "brDgFk0n0WA8",
        "outputId": "570f66f3-eded-4f04-9d2e-6063b7ca2124"
      },
      "outputs": [
        {
          "name": "stdout",
          "output_type": "stream",
          "text": [
            "dict_keys(['karnataka', 'tamilnadu', 'fruits', 'cricters'])\n",
            "<class 'dict'>\n"
          ]
        }
      ],
      "source": [
        "print(dic.keys())\n",
        "print(type(dic))"
      ]
    },
    {
      "cell_type": "code",
      "execution_count": null,
      "metadata": {
        "colab": {
          "base_uri": "https://localhost:8080/"
        },
        "id": "vY2Egvca151_",
        "outputId": "578d6725-322b-49a5-89e4-adb3fd903de6"
      },
      "outputs": [
        {
          "name": "stdout",
          "output_type": "stream",
          "text": [
            "enter your mail idmohanyadav8374@gmail.com\n",
            "enter your correct password9985770393\n",
            "{'mohanyadav8374@gmail.com': 9985770393}\n"
          ]
        }
      ],
      "source": [
        "mail_id = input(\"enter your mail id\")\n",
        "password = int(input(\"enter your correct password\"))\n",
        "dic = {}\n",
        "dic[mail_id]=password\n",
        "print(dic)"
      ]
    },
    {
      "cell_type": "code",
      "execution_count": null,
      "metadata": {
        "colab": {
          "base_uri": "https://localhost:8080/"
        },
        "id": "4BKh4LCG3L3s",
        "outputId": "4afe62aa-333b-4b32-db1a-e34cefd33cb5"
      },
      "outputs": [
        {
          "name": "stdout",
          "output_type": "stream",
          "text": [
            "enter your mail id a\n",
            "enter your correct password 1\n",
            "enter your mail id b\n",
            "enter your correct password 2\n",
            "enter your mail id c\n",
            "enter your correct password 2\n",
            "{'a': 1, 'b': 2, 'c': 2}\n"
          ]
        }
      ],
      "source": [
        "#mail_id = input(\"enter your mail id \")\n",
        "\n",
        "\n",
        "\n",
        "#password = int(input(\"enter your correct password \"))\n",
        "dic = {}\n",
        "\n",
        "for i in range(3):\n",
        "\n",
        "  \n",
        "  mail_id = input(\"enter your mail id \")\n",
        "  password = int(input(\"enter your correct password \"))\n",
        "  \n",
        "  \n",
        "  dic[mail_id]=password\n",
        "print(dic)"
      ]
    },
    {
      "cell_type": "code",
      "source": [
        "print(\"WELCOME TO THE UPCOMPING MUTHYALAMMA JATHARA \")\n",
        "dic = {}\n",
        "opinion=input(\"do you want to go another another house(yes/no) : \")\n",
        "while opinion==\"yes\":\n",
        "    house_holder_name = input(\"enter your name : \")\n",
        "    houseno= int(input(\"enter your house identity number : \"))\n",
        "    amount = int(input(\"enter your amount : \"))\n",
        "    opinion=input(\"do you want to go another another house(yes/no) : \")\n",
        "\n",
        "    dic[houseno]=[house_holder_name,amount]\n",
        "#print(dic)\n",
        "#print(dic.values())\n",
        "\n",
        "\n",
        "    \n",
        "\n",
        "\n",
        "  \n",
        "\n"
      ],
      "metadata": {
        "colab": {
          "base_uri": "https://localhost:8080/"
        },
        "id": "CnvmzFXsQ3oq",
        "outputId": "b4bafb33-6a01-45ee-d849-43ac944d26b5"
      },
      "execution_count": null,
      "outputs": [
        {
          "name": "stdout",
          "output_type": "stream",
          "text": [
            "WELCOME TO THE UPCOMPING MUTHYALAMMA JATHARA \n",
            "do you want to go another another house(yes/no) : yes\n",
            "enter your name : mohn\n",
            "enter your house identity number : 1\n",
            "enter your amount : 200\n",
            "do you want to go another another house(yes/no) : yes\n",
            "enter your name : chi\n",
            "enter your house identity number : 2\n",
            "enter your amount : 233\n",
            "do you want to go another another house(yes/no) : no\n"
          ]
        }
      ]
    },
    {
      "cell_type": "code",
      "source": [
        "val  = list(dic.values())\n",
        "val    "
      ],
      "metadata": {
        "colab": {
          "base_uri": "https://localhost:8080/"
        },
        "id": "2umBBYduSYUq",
        "outputId": "61baeb9d-8f24-45ae-f8dd-f4669cffb92a"
      },
      "execution_count": null,
      "outputs": [
        {
          "output_type": "execute_result",
          "data": {
            "text/plain": [
              "[['m', 233], ['s', 455]]"
            ]
          },
          "metadata": {},
          "execution_count": 64
        }
      ]
    },
    {
      "cell_type": "code",
      "source": [
        "val[0][1]"
      ],
      "metadata": {
        "colab": {
          "base_uri": "https://localhost:8080/"
        },
        "id": "pH0HdZsgS-So",
        "outputId": "9e2c8a2e-fa70-44c8-da0a-846129ee2a9f"
      },
      "execution_count": null,
      "outputs": [
        {
          "output_type": "execute_result",
          "data": {
            "text/plain": [
              "233"
            ]
          },
          "metadata": {},
          "execution_count": 66
        }
      ]
    },
    {
      "cell_type": "code",
      "source": [
        "total_amount = 0\n",
        "for i in range(len(val)):\n",
        "  #k  = val[i][1]\n",
        "  total_amount += val[i][1]\n",
        "print(total_amount)\n"
      ],
      "metadata": {
        "colab": {
          "base_uri": "https://localhost:8080/"
        },
        "id": "tUEg6y8eS-XP",
        "outputId": "4dd8aa66-4a56-46bb-9717-92abbbdb8494"
      },
      "execution_count": null,
      "outputs": [
        {
          "output_type": "stream",
          "name": "stdout",
          "text": [
            "688\n"
          ]
        }
      ]
    },
    {
      "cell_type": "code",
      "source": [
        "keys  =  list(dic.keys())\n",
        "value  =  list(dic.values())\n"
      ],
      "metadata": {
        "id": "QWAQrtlRVT78"
      },
      "execution_count": null,
      "outputs": []
    },
    {
      "cell_type": "code",
      "source": [
        "keys"
      ],
      "metadata": {
        "colab": {
          "base_uri": "https://localhost:8080/"
        },
        "id": "CFbhwVcZXc6u",
        "outputId": "860bf362-3cc9-4ea3-cb8b-4cfa2580a9fd"
      },
      "execution_count": null,
      "outputs": [
        {
          "output_type": "execute_result",
          "data": {
            "text/plain": [
              "[1, 2]"
            ]
          },
          "metadata": {},
          "execution_count": 76
        }
      ]
    },
    {
      "cell_type": "code",
      "source": [
        "value"
      ],
      "metadata": {
        "colab": {
          "base_uri": "https://localhost:8080/"
        },
        "id": "oTOtSiAWX-We",
        "outputId": "06d12b02-3e29-40ed-8d8e-d59873b6cc7e"
      },
      "execution_count": null,
      "outputs": [
        {
          "output_type": "execute_result",
          "data": {
            "text/plain": [
              "[['mohn', 200], ['chi', 233]]"
            ]
          },
          "metadata": {},
          "execution_count": 77
        }
      ]
    },
    {
      "cell_type": "code",
      "source": [
        "for i in range(len(keys)):\n",
        "  if value[i][1] <= 300:\n",
        "    print(value[i][0],'is has given less thn 300 rupees and his id is ',keys[i])"
      ],
      "metadata": {
        "colab": {
          "base_uri": "https://localhost:8080/"
        },
        "id": "_-cuDTFxYBIJ",
        "outputId": "1fafc655-dbd0-4703-f0d9-626fb0b8c155"
      },
      "execution_count": null,
      "outputs": [
        {
          "output_type": "stream",
          "name": "stdout",
          "text": [
            "mohn is has given less thn 300 rupees and his id is  1\n",
            "chi is has given less thn 300 rupees and his id is  2\n"
          ]
        }
      ]
    },
    {
      "cell_type": "code",
      "source": [
        ""
      ],
      "metadata": {
        "id": "v9P1eSrRYBNG"
      },
      "execution_count": null,
      "outputs": []
    }
  ],
  "metadata": {
    "colab": {
      "name": "DICTIOARYY.ipynb",
      "provenance": [],
      "authorship_tag": "ABX9TyOnkaStAfLjKdXImdoBk2Qj",
      "include_colab_link": true
    },
    "kernelspec": {
      "display_name": "Python 3",
      "name": "python3"
    },
    "language_info": {
      "name": "python"
    }
  },
  "nbformat": 4,
  "nbformat_minor": 0
}