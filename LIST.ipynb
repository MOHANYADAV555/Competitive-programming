{
  "nbformat": 4,
  "nbformat_minor": 0,
  "metadata": {
    "colab": {
      "name": "LIST.ipynb",
      "provenance": [],
      "toc_visible": true,
      "authorship_tag": "ABX9TyPk9a5YBc1Gb0xa3Eh1O2yi",
      "include_colab_link": true
    },
    "kernelspec": {
      "name": "python3",
      "display_name": "Python 3"
    },
    "language_info": {
      "name": "python"
    }
  },
  "cells": [
    {
      "cell_type": "markdown",
      "metadata": {
        "id": "view-in-github",
        "colab_type": "text"
      },
      "source": [
        "<a href=\"https://colab.research.google.com/github/MOHANYADAV555/Competitive-programming/blob/main/LIST.ipynb\" target=\"_parent\"><img src=\"https://colab.research.google.com/assets/colab-badge.svg\" alt=\"Open In Colab\"/></a>"
      ]
    },
    {
      "cell_type": "code",
      "execution_count": null,
      "metadata": {
        "id": "6OYLwCOG2K4t"
      },
      "outputs": [],
      "source": [
        "# List has Different Numbers,Values,Strings and Group of them\n",
        "#List are mutable,We can chnage the values,numbers,strings any thing \n",
        "#List are denoted by square brackets \"[ ]\"\n",
        "#String is a collection of character"
      ]
    },
    {
      "cell_type": "code",
      "source": [
        "number = [25,12,9,0,1,4]\n",
        "print(number)"
      ],
      "metadata": {
        "colab": {
          "base_uri": "https://localhost:8080/"
        },
        "id": "crtmGvPg3OqQ",
        "outputId": "b38530c1-f54e-4ad3-b3cb-b2f53c23683f"
      },
      "execution_count": null,
      "outputs": [
        {
          "output_type": "stream",
          "name": "stdout",
          "text": [
            "[25, 12, 9, 0, 1, 4]\n"
          ]
        }
      ]
    },
    {
      "cell_type": "code",
      "source": [
        "print(number[0])#normal values started with 1, but index values started with 1\n",
        "print(number[1])\n",
        "print(number[-1])# -1 represent reverse the list\n",
        "print(number[-5])\n",
        "print(number[2:])\n",
        "print(number[:])\n",
        "print(number[::-1])# REVERSE THE FULL LIST\n",
        "print(number[0:2000])\n",
        "#print(number[233]) OUT OF RANGE INDEX VALUE\n"
      ],
      "metadata": {
        "colab": {
          "base_uri": "https://localhost:8080/"
        },
        "id": "_eAwnTfs34Ie",
        "outputId": "f4ae7712-cb76-4ec6-99ed-4bab468707ac"
      },
      "execution_count": null,
      "outputs": [
        {
          "output_type": "stream",
          "name": "stdout",
          "text": [
            "25\n",
            "12\n",
            "4\n",
            "12\n",
            "[9, 0, 1, 4]\n",
            "[25, 12, 9, 0, 1, 4]\n",
            "[4, 1, 0, 9, 12, 25]\n",
            "[25, 12, 9, 0, 1, 4]\n"
          ]
        }
      ]
    },
    {
      "cell_type": "code",
      "source": [
        "name  = [\"mohan\",\"i\",\"a\",\"s\"]\n",
        "print(name)"
      ],
      "metadata": {
        "id": "Bge2Zshe595o",
        "colab": {
          "base_uri": "https://localhost:8080/"
        },
        "outputId": "ccd582ea-99ea-4760-801b-68262692cfce"
      },
      "execution_count": 3,
      "outputs": [
        {
          "output_type": "stream",
          "name": "stdout",
          "text": [
            "['mohan', 'i', 'a', 's']\n"
          ]
        }
      ]
    },
    {
      "cell_type": "code",
      "source": [
        "values = [9.5,9,'MCA']\n",
        "print(values)"
      ],
      "metadata": {
        "colab": {
          "base_uri": "https://localhost:8080/"
        },
        "id": "_8uij0FTw7ty",
        "outputId": "277c118e-ec27-4bae-f1dc-f321c0d24f4e"
      },
      "execution_count": 4,
      "outputs": [
        {
          "output_type": "stream",
          "name": "stdout",
          "text": [
            "[9.5, 9, 'MCA']\n"
          ]
        }
      ]
    },
    {
      "cell_type": "code",
      "source": [
        "mil = [name,values]\n",
        "print(mil)"
      ],
      "metadata": {
        "colab": {
          "base_uri": "https://localhost:8080/"
        },
        "id": "oNdHTS81xJqE",
        "outputId": "8fe9fdd6-47f1-45a1-a000-15bcd4534fe5"
      },
      "execution_count": 6,
      "outputs": [
        {
          "output_type": "stream",
          "name": "stdout",
          "text": [
            "[['mohan', 'i', 'a', 's'], [9.5, 9, 'MCA']]\n"
          ]
        }
      ]
    },
    {
      "cell_type": "code",
      "source": [
        "print(values)"
      ],
      "metadata": {
        "colab": {
          "base_uri": "https://localhost:8080/"
        },
        "id": "_7b0H345xlKs",
        "outputId": "16e6674a-05a4-45c8-f880-74a3442c1ac8"
      },
      "execution_count": 8,
      "outputs": [
        {
          "output_type": "stream",
          "name": "stdout",
          "text": [
            "[9.5, 9, 'MCA']\n"
          ]
        }
      ]
    },
    {
      "cell_type": "code",
      "source": [
        "values.append(45)\n",
        "print(values)"
      ],
      "metadata": {
        "colab": {
          "base_uri": "https://localhost:8080/"
        },
        "id": "zsHpuuIqx0s1",
        "outputId": "c6f03064-5027-45a1-b2b3-c861aae1f9b0"
      },
      "execution_count": 11,
      "outputs": [
        {
          "output_type": "stream",
          "name": "stdout",
          "text": [
            "[9.5, 9, 'MCA', 45, 45, 45]\n"
          ]
        }
      ]
    },
    {
      "cell_type": "code",
      "source": [
        "values.insert(4,77) # here 4 means index value \n",
        "print(values)"
      ],
      "metadata": {
        "colab": {
          "base_uri": "https://localhost:8080/"
        },
        "id": "DJ8_57SMyFaw",
        "outputId": "d7e29923-0ae0-4d76-a79b-eec8e57beabe"
      },
      "execution_count": 16,
      "outputs": [
        {
          "output_type": "stream",
          "name": "stdout",
          "text": [
            "[9.5, 9, 77, 'MCA', 77, 45, 45, 45]\n"
          ]
        }
      ]
    },
    {
      "cell_type": "code",
      "source": [
        "values.remove(45)\n",
        "print(values)"
      ],
      "metadata": {
        "colab": {
          "base_uri": "https://localhost:8080/"
        },
        "id": "W5FtzpWRyfH2",
        "outputId": "37c32527-a77f-4684-c989-b036e3f68ca0"
      },
      "execution_count": 22,
      "outputs": [
        {
          "output_type": "stream",
          "name": "stdout",
          "text": [
            "[9.5, 9, 77, 'MCA', 77, 45]\n"
          ]
        }
      ]
    },
    {
      "cell_type": "code",
      "source": [
        "num = [\"mohan\",1,5,1.5,'1']\n",
        "num.clear\n"
      ],
      "metadata": {
        "colab": {
          "base_uri": "https://localhost:8080/"
        },
        "id": "OFt6k9tMyxZf",
        "outputId": "6cdbf5b4-748d-4062-92cd-0f382d34375c"
      },
      "execution_count": 25,
      "outputs": [
        {
          "output_type": "execute_result",
          "data": {
            "text/plain": [
              "<function list.clear>"
            ]
          },
          "metadata": {},
          "execution_count": 25
        }
      ]
    },
    {
      "cell_type": "code",
      "source": [
        "print(num)"
      ],
      "metadata": {
        "colab": {
          "base_uri": "https://localhost:8080/"
        },
        "id": "N2eCvOZ-0pi5",
        "outputId": "9fcc9963-a198-46e2-fee9-93c9d48d4b35"
      },
      "execution_count": 26,
      "outputs": [
        {
          "output_type": "stream",
          "name": "stdout",
          "text": [
            "['mohan', 1, 5, 1.5, '1']\n"
          ]
        }
      ]
    },
    {
      "cell_type": "code",
      "source": [
        "num.pop()  # WE CAN USE POP VALUE REMOVE LAST VALUE IN A LIST"
      ],
      "metadata": {
        "colab": {
          "base_uri": "https://localhost:8080/",
          "height": 35
        },
        "id": "yDS0ooTL05Kj",
        "outputId": "c77f3825-e6d6-49ac-c188-44ae75db6340"
      },
      "execution_count": 29,
      "outputs": [
        {
          "output_type": "execute_result",
          "data": {
            "application/vnd.google.colaboratory.intrinsic+json": {
              "type": "string"
            },
            "text/plain": [
              "'1'"
            ]
          },
          "metadata": {},
          "execution_count": 29
        }
      ]
    },
    {
      "cell_type": "code",
      "source": [
        "num.extend([1,2,3,4,5])"
      ],
      "metadata": {
        "id": "DQGZ-mJs10Il"
      },
      "execution_count": 32,
      "outputs": []
    },
    {
      "cell_type": "code",
      "source": [
        "print(num)"
      ],
      "metadata": {
        "colab": {
          "base_uri": "https://localhost:8080/"
        },
        "id": "sY1bhRZ02HSL",
        "outputId": "f6c77223-015b-441e-9215-c40253c2c9e2"
      },
      "execution_count": 33,
      "outputs": [
        {
          "output_type": "stream",
          "name": "stdout",
          "text": [
            "['mohan', 1, 5, 1.5, 1, 2, 3, 4, 5]\n"
          ]
        }
      ]
    },
    {
      "cell_type": "code",
      "source": [
        "a = [1,2,3,4,5,3,42,7,8,9]"
      ],
      "metadata": {
        "id": "dTW9oArj2Mae"
      },
      "execution_count": 46,
      "outputs": []
    },
    {
      "cell_type": "code",
      "source": [
        "print(min(a))\n",
        "print(max(a))\n",
        "print(sum(a))\n"
      ],
      "metadata": {
        "colab": {
          "base_uri": "https://localhost:8080/"
        },
        "id": "_l8hCVHR3pV4",
        "outputId": "5b8fe1a9-10c7-42f5-8eac-43b9eb1aebe8"
      },
      "execution_count": 42,
      "outputs": [
        {
          "output_type": "stream",
          "name": "stdout",
          "text": [
            "1\n",
            "9\n",
            "45\n"
          ]
        }
      ]
    },
    {
      "cell_type": "code",
      "source": [
        "a.sort()"
      ],
      "metadata": {
        "id": "PB_n6vwq39vz"
      },
      "execution_count": 43,
      "outputs": []
    },
    {
      "cell_type": "code",
      "source": [
        "print(a)"
      ],
      "metadata": {
        "colab": {
          "base_uri": "https://localhost:8080/"
        },
        "id": "ZYEHOtif4Az3",
        "outputId": "de799a46-c657-427f-89e7-becf3ef849dd"
      },
      "execution_count": 47,
      "outputs": [
        {
          "output_type": "stream",
          "name": "stdout",
          "text": [
            "[1, 2, 3, 4, 5, 3, 42, 7, 8, 9]\n"
          ]
        }
      ]
    }
  ]
}